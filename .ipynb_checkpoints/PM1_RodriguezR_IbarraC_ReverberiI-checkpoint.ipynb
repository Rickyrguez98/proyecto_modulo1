{
 "cells": [
  {
   "cell_type": "markdown",
   "metadata": {},
   "source": [
    "## Programacion Lineal para inversion\n",
    "\n",
    "### Objetivo general: \n",
    "> En nuestro proyecto el objetivo es determinar la mejor estrategia de inversion como casa de        bolsa.\n",
    "### Objetivo especifico:\n",
    ">Nuestro proyecto ayudara a elegir una estrategia de inversion adecuada teniendo en cuenta la   cantidad maxima que puede ser invertida asi como su nivel de riesgo, de rendimiento y el tiempo de inversión.\n",
    "\n",
    "Nuestro objetivo de es determinar la mejor estrategia de inversión como casa de bolsa, tenemos diferentes acciones de empresas de EUA, la máxima cantidad que puede ser invertida en cada accion dependiendo del nivel de riesgo, el rendimiento y el tiempo de inversion de cada una de las acciones. Contamos con un presupuesto de ($\\$1'000,000 USD$) que es lo que recibimos de los clientes que desean invertir su dinero. Por lo menos un $33\\%$ y un maximo de $40\\%$ parte de este dinero debe ser invertido en acciones de alto riesgo y alto rendimiento. Finalmente, hay otra Restriccion que dice que tenemos que invertir minimo $30\\%$ del dinero en acciones de mas de 6 meses.\n",
    "\n",
    "Existen seis (6) opciones de inversión con las letras correspondientes $I_i$\n",
    "\n",
    "1. $I_1$:(Tasa de retorno=$17.76\\%$; duracion de la inversion(meses)=8, Riesgo=Bajo)\n",
    "1. $I_2$:(Tasa de retorno=$27.72\\%$; duracion de la inversion(meses)=6, Riesgo=Alto)\n",
    "1. $I_3$:(Tasa de retorno=$35.74\\%$; duracion de la inversion(meses)=3, Riesgo=Alto)\n",
    "1. $I_4$:(Tasa de retorno=$18.23\\%$; duracion de la inversion(meses)=8, Riesgo=Bajo)\n",
    "1. $I_5$:(Tasa de retorno=$24.98\\%$; duracion de la inversion(meses)=4, Riesgo=Alto)\n",
    "1. $I_6$:(Tasa de retorno=$22.74\\%$; duracion de la inversion(meses)=10, Riesgo=Bajo)\n",
    "\n",
    "Lo que se quiere entonces es maximizar el retorno que deja la inversión.\n",
    "\n",
    "Este problema puede ser resuelto con programación lineal. Formalmente, puede ser descrito como:\n",
    "\n",
    "$$\\max_{I_1,I_2,...,I_6}\\sum^{6}_{i=1} A_iR_i,$$\n",
    "\n",
    "donde $I_i$ representa la cantidad invertida en la opción, y $R_i$ representa la tasa de retorno respectiva.\n",
    "\n",
    "\n",
    "### Restricciones\n",
    "\n",
    "$$I ≤ 1´000,000$$\n",
    "$$33\\% < I > 40\\% $$\n",
    "$$ Im < 25\\% del intervalo (33\\% < I > 40\\%)  $$"
   ]
  },
  {
   "cell_type": "markdown",
   "metadata": {},
   "source": [
    "### Planteamos las matrices y restricciones..."
   ]
  },
  {
   "cell_type": "code",
   "execution_count": 1,
   "metadata": {},
   "outputs": [],
   "source": [
    "import scipy.optimize as opt\n",
    "import numpy as np"
   ]
  },
  {
   "cell_type": "code",
   "execution_count": 2,
   "metadata": {},
   "outputs": [
    {
     "data": {
      "text/plain": [
       "70000.0"
      ]
     },
     "execution_count": 2,
     "metadata": {},
     "output_type": "execute_result"
    }
   ],
   "source": [
    "Imin = (1000000*.33)\n",
    "Imax = (1000000*.40)\n",
    "Ii = Imax - Imin\n",
    "\n",
    "Imax\n",
    "Imin\n",
    "Ii"
   ]
  },
  {
   "cell_type": "code",
   "execution_count": 3,
   "metadata": {},
   "outputs": [
    {
     "data": {
      "text/plain": [
       "17500.0"
      ]
     },
     "execution_count": 3,
     "metadata": {},
     "output_type": "execute_result"
    }
   ],
   "source": [
    "IM = (Ii*.25)\n",
    "IM"
   ]
  },
  {
   "cell_type": "code",
   "execution_count": 4,
   "metadata": {},
   "outputs": [
    {
     "data": {
      "text/plain": [
       "21000.0"
      ]
     },
     "execution_count": 4,
     "metadata": {},
     "output_type": "execute_result"
    }
   ],
   "source": [
    "IMAX = (Ii*.30)\n",
    "IMAX"
   ]
  },
  {
   "cell_type": "code",
   "execution_count": 5,
   "metadata": {},
   "outputs": [
    {
     "data": {
      "text/plain": [
       "372960.00000000006"
      ]
     },
     "execution_count": 5,
     "metadata": {},
     "output_type": "execute_result"
    }
   ],
   "source": [
    "I1=IMAX*17.76\n",
    "I1"
   ]
  },
  {
   "cell_type": "code",
   "execution_count": 6,
   "metadata": {},
   "outputs": [
    {
     "data": {
      "text/plain": [
       "382830.0"
      ]
     },
     "execution_count": 6,
     "metadata": {},
     "output_type": "execute_result"
    }
   ],
   "source": [
    "I4=IMAX*18.23\n",
    "I4"
   ]
  },
  {
   "cell_type": "code",
   "execution_count": 7,
   "metadata": {},
   "outputs": [
    {
     "data": {
      "text/plain": [
       "477539.99999999994"
      ]
     },
     "execution_count": 7,
     "metadata": {},
     "output_type": "execute_result"
    }
   ],
   "source": [
    "I6 = IMAX*22.74\n",
    "I6"
   ]
  },
  {
   "cell_type": "code",
   "execution_count": 8,
   "metadata": {},
   "outputs": [
    {
     "data": {
      "text/plain": [
       "1233330.0"
      ]
     },
     "execution_count": 8,
     "metadata": {},
     "output_type": "execute_result"
    }
   ],
   "source": [
    "Ri= I1+I4+I6\n",
    "Ri"
   ]
  },
  {
   "cell_type": "markdown",
   "metadata": {},
   "source": [
    "Mi tasa de retorno respectiva seria de $1´233,330.0USD"
   ]
  },
  {
   "cell_type": "code",
   "execution_count": 9,
   "metadata": {},
   "outputs": [
    {
     "data": {
      "text/plain": [
       "array([ 400000., -250000.])"
      ]
     },
     "execution_count": 9,
     "metadata": {},
     "output_type": "execute_result"
    }
   ],
   "source": [
    "\n",
    "# Matrices y cotas\n",
    "c= np.array([35.76,27.72,35.74,18.23,24.98,22.74])/100\n",
    "\n",
    "A= np.array([[0,1,1,0,1,0],\n",
    "           [-1,-1,0,-1,0,-1]])\n",
    "b= np.array([0.40*1000000,-1000000/4])\n",
    "\n",
    "A_eq=np.array([[1,1,1,1,1,1]])\n",
    "b_eq= np.array([1000000])\n",
    "bounds=(0,1000000/4)\n",
    "\n",
    "b"
   ]
  },
  {
   "cell_type": "code",
   "execution_count": 10,
   "metadata": {},
   "outputs": [],
   "source": [
    "\n",
    "# Resolver\n",
    "sol_Inversion= opt.linprog(c,A,b,A_eq,b_eq, method='simplex')"
   ]
  },
  {
   "cell_type": "code",
   "execution_count": 11,
   "metadata": {},
   "outputs": [
    {
     "data": {
      "text/plain": [
       "     con: array([0.])\n",
       "     fun: 182300.00000000003\n",
       " message: 'Optimization terminated successfully.'\n",
       "     nit: 6\n",
       "   slack: array([400000., 750000.])\n",
       "  status: 0\n",
       " success: True\n",
       "       x: array([      0.,       0.,       0., 1000000.,       0.,       0.])"
      ]
     },
     "execution_count": 11,
     "metadata": {},
     "output_type": "execute_result"
    }
   ],
   "source": [
    "\n",
    "sol_Inversion"
   ]
  },
  {
   "cell_type": "markdown",
   "metadata": {},
   "source": [
    "## Conclusión\n",
    "\n",
    ">En conclusión sabemos que los fondos de inversión son importantes a nivel global ya que engloban todo lo que tiene que ver con empresas de diferentes magnitudes y en sus acciones que al final representan dinero.\n",
    "Es por esto que decidimos hacer el proyecto con una base en este tema tan amplio y poder llegar a una base mediante formulas para poder encontrar la mejor opcion de inversion con todas las restricciones que se plantearon en la situación desde un principio en base a la capital que se tenía.\n",
    "La programación es una gran herramienta para poder solucionar problemáticas como estas ya que nos apoyamos en fórmulas y números que una vez programando no fallan.\n",
    "Al final se logro el objetivo y se cumplio nuevamente con un problema de programación lineal el cual pudimos encontrar lo que se deseaba."
   ]
  }
 ],
 "metadata": {
  "kernelspec": {
   "display_name": "Python 3",
   "language": "python",
   "name": "python3"
  },
  "language_info": {
   "codemirror_mode": {
    "name": "ipython",
    "version": 3
   },
   "file_extension": ".py",
   "mimetype": "text/x-python",
   "name": "python",
   "nbconvert_exporter": "python",
   "pygments_lexer": "ipython3",
   "version": "3.7.4"
  }
 },
 "nbformat": 4,
 "nbformat_minor": 2
}
