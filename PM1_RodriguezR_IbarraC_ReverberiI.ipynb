{
 "cells": [
  {
   "cell_type": "markdown",
   "metadata": {},
   "source": [
    "## Programacion Lineal para inversion\n",
    "Nuestro objetivo de es determinar la mejor estrategia de inversión como casa de bolsa, tenemos diferentes acciones de empresas de EUA, la máxima cantidad que puede ser invertida en cada accion dependiendo del nivel de riesgo, el rendimiento y el tiempo de inversion de cada una de las acciones. Contamos con un presupuesto de ($\\$1'000,000 USD$) que es lo que recibimos de los clientes que desean invertir su dinero. Por lo menos un $33\\%$ y un maximo de $40\\%$ parte de este dinero debe ser invertido en acciones de alto riesgo y alto rendimiento. Se puede invertir un máximo del $25\\%$ de esta cantidad en cada empresa. Finalmente, hay otra Restriccion que dice que tenemos que invertir minimo $30\\%$ del dinero en acciones de mas de 6 meses.\n",
    "\n",
    "Existen seis (6) opciones de inversión con las letras correspondientes $I_i$\n",
    "\n",
    "1. $I_1$:(Tasa de retorno=$17.76\\%$; duracion de la inversion(meses)=8, Riesgo=Bajo)\n",
    "1. $I_2$:(Tasa de retorno=$27.72\\%$; duracion de la inversion(meses)=6, Riesgo=Alto)\n",
    "1. $I_3$:(Tasa de retorno=$35.74\\%$; duracion de la inversion(meses)=3, Riesgo=Alto)\n",
    "1. $I_4$:(Tasa de retorno=$18.23\\%$; duracion de la inversion(meses)=8, Riesgo=Bajo)\n",
    "1. $I_5$:(Tasa de retorno=$24.98\\%$; duracion de la inversion(meses)=4, Riesgo=Alto)\n",
    "1. $I_6$:(Tasa de retorno=$22.74\\%$; duracion de la inversion(meses)=10, Riesgo=Bajo)\n",
    "\n",
    "Lo que se quiere entonces es maximizar el retorno que deja la inversión.\n",
    "\n",
    "Este problema puede ser resuelto con programación lineal. Formalmente, puede ser descrito como:\n",
    "\n",
    "$$\\max_{I_1,I_2,...,I_6}\\sum^{6}_{i=1} A_iR_i,$$\n",
    "\n",
    "donde $I_i$ representa la cantidad invertida en la opción, y $R_i$ representa la tasa de retorno respectiva."
   ]
  }
 ],
 "metadata": {
  "kernelspec": {
   "display_name": "Python 3",
   "language": "python",
   "name": "python3"
  },
  "language_info": {
   "codemirror_mode": {
    "name": "ipython",
    "version": 3
   },
   "file_extension": ".py",
   "mimetype": "text/x-python",
   "name": "python",
   "nbconvert_exporter": "python",
   "pygments_lexer": "ipython3",
   "version": "3.7.4"
  }
 },
 "nbformat": 4,
 "nbformat_minor": 2
}
